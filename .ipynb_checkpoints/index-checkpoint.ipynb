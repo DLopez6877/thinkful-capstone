{
 "cells": [
  {
   "cell_type": "markdown",
   "metadata": {},
   "source": [
    "# Fifa 18 - How age and nationality make a difference in Fifa¶\n",
    "*Capstone by Daniel Lopez*"
   ]
  },
  {
   "cell_type": "code",
   "execution_count": 1,
   "metadata": {},
   "outputs": [],
   "source": [
    "import pandas as pd\n",
    "import numpy as np\n",
    "import matplotlib.pyplot as plt\n",
    "%matplotlib inline"
   ]
  },
  {
   "cell_type": "markdown",
   "metadata": {},
   "source": [
    "### Table of contents\n",
    "* About the dataset\n",
    "* Summary\n",
    "* Hypothesis\n",
    "* Preparing the data\n",
    "* Quick look at soccer player ages\n",
    "* Correlate between age and overall rating\n",
    "* Correlate between age and potential\n",
    "* Correlate between age and pay\n",
    "* Correlate between age and nationality\n",
    "* Conclusion\n",
    "* Future Exploration"
   ]
  },
  {
   "cell_type": "markdown",
   "metadata": {},
   "source": [
    "<hr>\n",
    "# About the dataset"
   ]
  },
  {
   "cell_type": "code",
   "execution_count": 2,
   "metadata": {},
   "outputs": [],
   "source": [
    "df = pd.read_csv('CompleteDataset.csv', low_memory=False)"
   ]
  },
  {
   "cell_type": "markdown",
   "metadata": {},
   "source": [
    "The <a href=\"https://www.kaggle.com/thec03u5/fifa-18-demo-player-dataset\">Fifa 18 Complete Player Dataset</a> features in-game attributes of all the players in the video game Fifa 18 by EA. The data is scraped from the website <a href=\"https://sofifa.com\">https://sofifa.com</a> by extracting the Player personal data and Player Ids and then the playing and style statistics. Each attribute has been assigned by EA based off of each players performances from previous years. This dataset contains approximately 18,000 players with 75 attributes each.\n",
    "\n",
    "### Acknowledgements\n",
    "This dataset was provided by Aman Shrivastava on <a href=\"kaggle.com\">Kaggle.com</a>.\n",
    "\n",
    "### Disclaimer\n",
    "Some leagues and professional soccer players do not appear in the Fifa 18 video game and therefore are not part of the dataset.\n",
    "\n"
   ]
  },
  {
   "cell_type": "markdown",
   "metadata": {},
   "source": [
    "<hr>\n",
    "# Summary\n",
    "It is generally accepted that a young player has a lot of potential and as he gets older he becomes a better soccer player. After a few golden years at his peak performance, that player eventually gets older and his skills deteriorate. I want to know (on average) which ages are the \"golden years\" and how much of an impact age has when it comes to EA's rankings for players potential. Once the 'Golden years' have been established, I want to compare the average wage by age to the Golden years and see if there is a connection.\n",
    "\n",
    "Also, while we are taking a look at age and potential. I want to explore the average age and the average potential of each nation since these two factors may have an impact of future performances for international teams. I will also be paying close attention to the number of players each nation has since some nations may not have a large enough sample group to be useful and there may be a correlation between the number of players and a country's average potential.\n"
   ]
  },
  {
   "cell_type": "markdown",
   "metadata": {},
   "source": [
    "<hr>\n",
    "# Hypothesis\n",
    "I predict that the relationship between age and overall score will be a natural bell curve with players overall rankings being low at younger ages and peaking around 25 years of age then beginning to slope back down. I assume age is a direct factor in EA's potential rankings so I expect that the average potential for each age group will be highest at the youngest ages and steadily decrease with age. I predict the average wage a player makes based on age will be very similar to the relationship between age and overall score.\n",
    "\n",
    "If soccer has been a part of a country's culture for a long time then more people will be playing it. If more people are playing the sport then more people will be playing professional from that country around the world. As the sport naturally progresses it becomes more difficult for players to become a professional, therefore increasing the quality of the players from the country. I believe EA keeps this in mind when assigning potential rankings so I predict that the nations with the most amount of players will have the highest potential even if their average age may be lower than others."
   ]
  },
  {
   "cell_type": "markdown",
   "metadata": {},
   "source": [
    "<hr>\n",
    "# Preparing the data"
   ]
  },
  {
   "cell_type": "code",
   "execution_count": 3,
   "metadata": {},
   "outputs": [
    {
     "data": {
      "text/plain": [
       "Index(['Unnamed: 0', 'Name', 'Age', 'Photo', 'Nationality', 'Flag', 'Overall',\n",
       "       'Potential', 'Club', 'Club Logo', 'Value', 'Wage', 'Special',\n",
       "       'Acceleration', 'Aggression', 'Agility', 'Balance', 'Ball control',\n",
       "       'Composure', 'Crossing', 'Curve', 'Dribbling', 'Finishing',\n",
       "       'Free kick accuracy', 'GK diving', 'GK handling', 'GK kicking',\n",
       "       'GK positioning', 'GK reflexes', 'Heading accuracy', 'Interceptions',\n",
       "       'Jumping', 'Long passing', 'Long shots', 'Marking', 'Penalties',\n",
       "       'Positioning', 'Reactions', 'Short passing', 'Shot power',\n",
       "       'Sliding tackle', 'Sprint speed', 'Stamina', 'Standing tackle',\n",
       "       'Strength', 'Vision', 'Volleys', 'CAM', 'CB', 'CDM', 'CF', 'CM', 'ID',\n",
       "       'LAM', 'LB', 'LCB', 'LCM', 'LDM', 'LF', 'LM', 'LS', 'LW', 'LWB',\n",
       "       'Preferred Positions', 'RAM', 'RB', 'RCB', 'RCM', 'RDM', 'RF', 'RM',\n",
       "       'RS', 'RW', 'RWB', 'ST'],\n",
       "      dtype='object')"
      ]
     },
     "execution_count": 3,
     "metadata": {},
     "output_type": "execute_result"
    }
   ],
   "source": [
    "df.columns"
   ]
  },
  {
   "cell_type": "markdown",
   "metadata": {},
   "source": [
    "**We currently have a total of 75 columns per player and we don't need all of them so lets reduce the dataset to only what is necessary.**"
   ]
  },
  {
   "cell_type": "code",
   "execution_count": 4,
   "metadata": {},
   "outputs": [
    {
     "data": {
      "text/html": [
       "<div>\n",
       "<style scoped>\n",
       "    .dataframe tbody tr th:only-of-type {\n",
       "        vertical-align: middle;\n",
       "    }\n",
       "\n",
       "    .dataframe tbody tr th {\n",
       "        vertical-align: top;\n",
       "    }\n",
       "\n",
       "    .dataframe thead th {\n",
       "        text-align: right;\n",
       "    }\n",
       "</style>\n",
       "<table border=\"1\" class=\"dataframe\">\n",
       "  <thead>\n",
       "    <tr style=\"text-align: right;\">\n",
       "      <th></th>\n",
       "      <th>Name</th>\n",
       "      <th>Age</th>\n",
       "      <th>Nationality</th>\n",
       "      <th>Overall</th>\n",
       "      <th>Potential</th>\n",
       "      <th>Wage</th>\n",
       "      <th>Value</th>\n",
       "    </tr>\n",
       "  </thead>\n",
       "  <tbody>\n",
       "    <tr>\n",
       "      <th>0</th>\n",
       "      <td>Cristiano Ronaldo</td>\n",
       "      <td>32</td>\n",
       "      <td>Portugal</td>\n",
       "      <td>94</td>\n",
       "      <td>94</td>\n",
       "      <td>€565K</td>\n",
       "      <td>€95.5M</td>\n",
       "    </tr>\n",
       "    <tr>\n",
       "      <th>1</th>\n",
       "      <td>L. Messi</td>\n",
       "      <td>30</td>\n",
       "      <td>Argentina</td>\n",
       "      <td>93</td>\n",
       "      <td>93</td>\n",
       "      <td>€565K</td>\n",
       "      <td>€105M</td>\n",
       "    </tr>\n",
       "    <tr>\n",
       "      <th>2</th>\n",
       "      <td>Neymar</td>\n",
       "      <td>25</td>\n",
       "      <td>Brazil</td>\n",
       "      <td>92</td>\n",
       "      <td>94</td>\n",
       "      <td>€280K</td>\n",
       "      <td>€123M</td>\n",
       "    </tr>\n",
       "    <tr>\n",
       "      <th>3</th>\n",
       "      <td>L. Suárez</td>\n",
       "      <td>30</td>\n",
       "      <td>Uruguay</td>\n",
       "      <td>92</td>\n",
       "      <td>92</td>\n",
       "      <td>€510K</td>\n",
       "      <td>€97M</td>\n",
       "    </tr>\n",
       "    <tr>\n",
       "      <th>4</th>\n",
       "      <td>M. Neuer</td>\n",
       "      <td>31</td>\n",
       "      <td>Germany</td>\n",
       "      <td>92</td>\n",
       "      <td>92</td>\n",
       "      <td>€230K</td>\n",
       "      <td>€61M</td>\n",
       "    </tr>\n",
       "  </tbody>\n",
       "</table>\n",
       "</div>"
      ],
      "text/plain": [
       "                Name  Age Nationality  Overall  Potential   Wage   Value\n",
       "0  Cristiano Ronaldo   32    Portugal       94         94  €565K  €95.5M\n",
       "1           L. Messi   30   Argentina       93         93  €565K   €105M\n",
       "2             Neymar   25      Brazil       92         94  €280K   €123M\n",
       "3          L. Suárez   30     Uruguay       92         92  €510K    €97M\n",
       "4           M. Neuer   31     Germany       92         92  €230K    €61M"
      ]
     },
     "execution_count": 4,
     "metadata": {},
     "output_type": "execute_result"
    }
   ],
   "source": [
    "necessary_columns = [\n",
    "    'Name',\n",
    "    'Age', \n",
    "    'Nationality', \n",
    "    'Overall', \n",
    "    'Potential',\n",
    "    'Wage',\n",
    "    'Value'\n",
    "]\n",
    "df = pd.DataFrame(df, columns=necessary_columns)\n",
    "df.head()"
   ]
  },
  {
   "cell_type": "markdown",
   "metadata": {},
   "source": [
    "**The \"Wage\" and \"Value\" columns are currently a string formatted as a money value. Let's make a function that will reformat these values as a float.**"
   ]
  },
  {
   "cell_type": "code",
   "execution_count": 5,
   "metadata": {},
   "outputs": [],
   "source": [
    "def extract_value_from(value):\n",
    "    out = value.replace('€', '')\n",
    "    if 'M' in out:\n",
    "        out = float(out.replace('M', ''))*1000000\n",
    "    elif 'K' in value:\n",
    "        out = float(out.replace('K', ''))*1000\n",
    "    return float(out)\n",
    "\n",
    "df['Wage'] = df['Wage'].apply(lambda x: extract_value_from(x))\n",
    "df['Wage'] = df['Wage'].apply(lambda x: x/1000)\n",
    "df['Value'] = df['Value'].apply(lambda x: extract_value_from(x))\n",
    "df['Value'] = df['Value'].apply(lambda x: x/1000000)"
   ]
  },
  {
   "cell_type": "markdown",
   "metadata": {},
   "source": [
    "As of right now, a players potential score shows what their overall score can reach after training a player in career mode. We want this number to reflect how much potential growth there is instead of the final value. Let's reassign this value to show those potential points."
   ]
  },
  {
   "cell_type": "code",
   "execution_count": 6,
   "metadata": {},
   "outputs": [
    {
     "data": {
      "text/html": [
       "<div>\n",
       "<style scoped>\n",
       "    .dataframe tbody tr th:only-of-type {\n",
       "        vertical-align: middle;\n",
       "    }\n",
       "\n",
       "    .dataframe tbody tr th {\n",
       "        vertical-align: top;\n",
       "    }\n",
       "\n",
       "    .dataframe thead th {\n",
       "        text-align: right;\n",
       "    }\n",
       "</style>\n",
       "<table border=\"1\" class=\"dataframe\">\n",
       "  <thead>\n",
       "    <tr style=\"text-align: right;\">\n",
       "      <th></th>\n",
       "      <th>Name</th>\n",
       "      <th>Age</th>\n",
       "      <th>Nationality</th>\n",
       "      <th>Overall</th>\n",
       "      <th>Potential</th>\n",
       "      <th>Wage</th>\n",
       "      <th>Value</th>\n",
       "    </tr>\n",
       "  </thead>\n",
       "  <tbody>\n",
       "    <tr>\n",
       "      <th>0</th>\n",
       "      <td>Cristiano Ronaldo</td>\n",
       "      <td>32</td>\n",
       "      <td>Portugal</td>\n",
       "      <td>94</td>\n",
       "      <td>0</td>\n",
       "      <td>565.0</td>\n",
       "      <td>95.5</td>\n",
       "    </tr>\n",
       "    <tr>\n",
       "      <th>1</th>\n",
       "      <td>L. Messi</td>\n",
       "      <td>30</td>\n",
       "      <td>Argentina</td>\n",
       "      <td>93</td>\n",
       "      <td>0</td>\n",
       "      <td>565.0</td>\n",
       "      <td>105.0</td>\n",
       "    </tr>\n",
       "    <tr>\n",
       "      <th>2</th>\n",
       "      <td>Neymar</td>\n",
       "      <td>25</td>\n",
       "      <td>Brazil</td>\n",
       "      <td>92</td>\n",
       "      <td>2</td>\n",
       "      <td>280.0</td>\n",
       "      <td>123.0</td>\n",
       "    </tr>\n",
       "    <tr>\n",
       "      <th>3</th>\n",
       "      <td>L. Suárez</td>\n",
       "      <td>30</td>\n",
       "      <td>Uruguay</td>\n",
       "      <td>92</td>\n",
       "      <td>0</td>\n",
       "      <td>510.0</td>\n",
       "      <td>97.0</td>\n",
       "    </tr>\n",
       "    <tr>\n",
       "      <th>4</th>\n",
       "      <td>M. Neuer</td>\n",
       "      <td>31</td>\n",
       "      <td>Germany</td>\n",
       "      <td>92</td>\n",
       "      <td>0</td>\n",
       "      <td>230.0</td>\n",
       "      <td>61.0</td>\n",
       "    </tr>\n",
       "  </tbody>\n",
       "</table>\n",
       "</div>"
      ],
      "text/plain": [
       "                Name  Age Nationality  Overall  Potential   Wage  Value\n",
       "0  Cristiano Ronaldo   32    Portugal       94          0  565.0   95.5\n",
       "1           L. Messi   30   Argentina       93          0  565.0  105.0\n",
       "2             Neymar   25      Brazil       92          2  280.0  123.0\n",
       "3          L. Suárez   30     Uruguay       92          0  510.0   97.0\n",
       "4           M. Neuer   31     Germany       92          0  230.0   61.0"
      ]
     },
     "execution_count": 6,
     "metadata": {},
     "output_type": "execute_result"
    }
   ],
   "source": [
    "df['Potential'] = df['Potential'] - df['Overall']\n",
    "df.head()"
   ]
  },
  {
   "cell_type": "markdown",
   "metadata": {},
   "source": [
    "**Let's take a look and see what data types we are working with and if we have any null items.**"
   ]
  },
  {
   "cell_type": "code",
   "execution_count": 7,
   "metadata": {},
   "outputs": [
    {
     "name": "stdout",
     "output_type": "stream",
     "text": [
      "<class 'pandas.core.frame.DataFrame'>\n",
      "RangeIndex: 17981 entries, 0 to 17980\n",
      "Data columns (total 7 columns):\n",
      "Name           17981 non-null object\n",
      "Age            17981 non-null int64\n",
      "Nationality    17981 non-null object\n",
      "Overall        17981 non-null int64\n",
      "Potential      17981 non-null int64\n",
      "Wage           17981 non-null float64\n",
      "Value          17981 non-null float64\n",
      "dtypes: float64(2), int64(3), object(2)\n",
      "memory usage: 983.4+ KB\n"
     ]
    }
   ],
   "source": [
    "df.info()"
   ]
  },
  {
   "cell_type": "markdown",
   "metadata": {},
   "source": [
    "**We are able to see that all 17,981 players have values for Age, Nationality, Overall, Potential, Wage, and Value.**"
   ]
  },
  {
   "cell_type": "markdown",
   "metadata": {},
   "source": [
    "<hr>\n",
    "# Quick look at soccer player ages\n",
    "Before we start let's take a look at all the ages of the Fifa 18 players."
   ]
  },
  {
   "cell_type": "code",
   "execution_count": 8,
   "metadata": {},
   "outputs": [
    {
     "data": {
      "image/png": "[encoded data removed]",
      "text/plain": [
       "<matplotlib.figure.Figure at 0x10e3843c8>"
      ]
     },
     "metadata": {},
     "output_type": "display_data"
    }
   ],
   "source": [
    "player_ages = df['Age']\n",
    "plt.hist(player_ages, bins=20, color='c')\n",
    "plt.axvline(player_ages.mean(), color='b', linestyle='solid', linewidth=2)\n",
    "plt.axvline(player_ages.mean() + player_ages.std(), color='grey', linestyle='dashed', linewidth=2)\n",
    "plt.axvline(player_ages.mean()-player_ages.std(), color='grey', linestyle='dashed', linewidth=2)\n",
    "plt.ylabel('Number of players')\n",
    "plt.xlabel('Age')\n",
    "plt.show()"
   ]
  },
  {
   "cell_type": "markdown",
   "metadata": {},
   "source": [
    "**The solid blue line represents the mean and the dotted lines show the standard deviation.**"
   ]
  },
  {
   "cell_type": "code",
   "execution_count": 9,
   "metadata": {},
   "outputs": [
    {
     "data": {
      "text/plain": [
       "count    17981.000000\n",
       "mean        25.144541\n",
       "std          4.614272\n",
       "min         16.000000\n",
       "25%         21.000000\n",
       "50%         25.000000\n",
       "75%         28.000000\n",
       "max         47.000000\n",
       "Name: Age, dtype: float64"
      ]
     },
     "execution_count": 9,
     "metadata": {},
     "output_type": "execute_result"
    }
   ],
   "source": [
    "player_ages.describe()"
   ]
  },
  {
   "cell_type": "code",
   "execution_count": 10,
   "metadata": {},
   "outputs": [
    {
     "data": {
      "image/png": "[encoded data removed]",
      "text/plain": [
       "<matplotlib.figure.Figure at 0x10df96908>"
      ]
     },
     "metadata": {},
     "output_type": "display_data"
    }
   ],
   "source": [
    "norm = np.random.normal(0, 1, 17981)\n",
    "age = df['Age'].sort_values()\n",
    "norm.sort()\n",
    "plt.plot(norm, age, \"o\")\n",
    "plt.title('QQ Graph')\n",
    "plt.show()"
   ]
  },
  {
   "cell_type": "markdown",
   "metadata": {},
   "source": [
    "### What this means\n",
    "We can see that the average age of all the players is approximately 25 years old with the youngest player being 16 and the oldest being 47. 25% of all values are less than that value. 25% of players are less than 21 years of age. 50% of players are less than 25 years old. 75% of players are less than 28 years old. STD stands for standard deviation which is a measurement of variance for data. A larger value means that the values lie far away from the mean, while a smaller value means that values lie closer together.\n",
    "The QQ plot graph show how normally distributed the ages are. When data is not normal, the mean and standard deviation are no longer accurate or informative. The straighter the line is the more normal the values are. The values in our dataset are normal with some skew on the low and high ages."
   ]
  },
  {
   "cell_type": "markdown",
   "metadata": {},
   "source": [
    "<hr>\n",
    "# Correlate between age and overall rating\n",
    "Let's take a look at which ages players tend to perform the best also known as the \"golden years.\""
   ]
  },
  {
   "cell_type": "code",
   "execution_count": 11,
   "metadata": {},
   "outputs": [
    {
     "data": {
      "image/png": "[encoded data removed]",
      "text/plain": [
       "<matplotlib.figure.Figure at 0x10c916ef0>"
      ]
     },
     "metadata": {},
     "output_type": "display_data"
    }
   ],
   "source": [
    "df_age_overall = df.copy()\n",
    "plt.scatter(df_age_overall['Age'], df_age_overall['Overall'], color=\"#C691FC\", alpha=0.2)\n",
    "average_overall_by_age = df_age_overall.groupby('Age', as_index=False)['Overall'].mean()\n",
    "plt.scatter(average_overall_by_age['Age'], average_overall_by_age['Overall'], color=\"b\")\n",
    "plt.ylabel('Overall Score')\n",
    "plt.xlabel('Age')\n",
    "plt.show()"
   ]
  },
  {
   "cell_type": "markdown",
   "metadata": {},
   "source": [
    "**The dark circles represent the average rating of the players at each age and the light purple dots are a representation of each player.**\n",
    "\n",
    "We are able to see that players below the age of 25 tend to be lower rated and their overall rating increases as they get older. Once a player reaches the ages of 25 their fifa rating tends to stabilize till they reach 35. After the ages of 35 the amount of players substantially decreases and the range of ratings varies although the average tends to fluctuate very little. After the age of 40 there are hardly any players and the average is based on small sample sizes leaving a few outliers."
   ]
  },
  {
   "cell_type": "markdown",
   "metadata": {},
   "source": [
    "<hr>\n",
    "\n",
    "# Correlate between age and potential\n",
    "As mentioned before, a player's potential rating represents their potential overall score growth in career mode. Let's take a look to see how age affects a player's potential score."
   ]
  },
  {
   "cell_type": "code",
   "execution_count": 12,
   "metadata": {},
   "outputs": [
    {
     "data": {
      "image/png": "[encoded data removed]",
      "text/plain": [
       "<matplotlib.figure.Figure at 0x108781390>"
      ]
     },
     "metadata": {},
     "output_type": "display_data"
    }
   ],
   "source": [
    "df_age_potential = df.copy()\n",
    "plt.scatter(df_age_potential['Age'], df_age_potential['Potential'], color=\"#C691FC\", alpha=0.2)\n",
    "potential_by_age = df_age_potential.groupby('Age', as_index=False)['Potential'].mean()\n",
    "plt.scatter(potential_by_age['Age'], potential_by_age['Potential'], color=\"b\")\n",
    "plt.ylabel('Potential Points')\n",
    "plt.xlabel('Age')\n",
    "plt.show()"
   ]
  },
  {
   "cell_type": "markdown",
   "metadata": {},
   "source": [
    "**The dark circles represent the average potential points of the players at each age and the light purple dots are a representation of each player.**\n",
    "\n",
    "Earlier I predicted that this potential points would steadily decrease with age and have some variance but it is apparent that potential points decrease exponentially with age and anyone over the age of 30 does not receive any potential points. If you are looking to build a career mode squad with high potential a good rule of thumb is the younger the better."
   ]
  },
  {
   "cell_type": "markdown",
   "metadata": {},
   "source": [
    "<hr>\n",
    "# Correlate between age and pay\n",
    "This section is possibly the most applicable to soccer outside of the video game since age is a player's actual age and their pay is closely based on their actual pay. Wage represents a player's salary and value is their transfer fee in the game. Let's take a look at how these numbers are affected by a player's age."
   ]
  },
  {
   "cell_type": "code",
   "execution_count": 13,
   "metadata": {},
   "outputs": [
    {
     "data": {
      "image/png": "[encoded data removed]",
      "text/plain": [
       "<matplotlib.figure.Figure at 0x10cb360b8>"
      ]
     },
     "metadata": {},
     "output_type": "display_data"
    }
   ],
   "source": [
    "df_age_wage = df.copy()\n",
    "wage_by_age = df_age_wage.groupby(['Age'])['Wage'].mean()\n",
    "value_by_age = df_age_wage.groupby(['Age'])['Value'].mean()\n",
    "wage_and_value = pd.concat([wage_by_age, value_by_age], axis=1)\n",
    "\n",
    "axis = wage_and_value.plot()\n",
    "axis.set_ylabel('Wage / Value')\n",
    "axis.set_title('Average Age')\n",
    "plt.show()"
   ]
  },
  {
   "cell_type": "markdown",
   "metadata": {},
   "source": [
    "**The chart above gives us an idea of how age affects pay but a player's wage is presented in thousands whereas the Value is presented in millions so lets reconfigure this visualization to be on the same scale.**"
   ]
  },
  {
   "cell_type": "code",
   "execution_count": 14,
   "metadata": {},
   "outputs": [
    {
     "data": {
      "image/png": "[encoded data removed]",
      "text/plain": [
       "<matplotlib.figure.Figure at 0x10e39e240>"
      ]
     },
     "metadata": {},
     "output_type": "display_data"
    }
   ],
   "source": [
    "value_mean = df['Value'].mean()\n",
    "value_STD = df['Value'].std()\n",
    "wage_mean = df['Wage'].mean()\n",
    "wage_STD = df['Wage'].std()\n",
    "\n",
    "df['Value Equalized'] = (df['Value'] - value_mean) / value_STD\n",
    "df['Wage Equalized']= (df['Wage'] - wage_mean) / wage_STD\n",
    "\n",
    "equalized = df.copy()\n",
    "wage_by_age = equalized.groupby(['Age'])['Wage Equalized'].mean()\n",
    "value_by_age = equalized.groupby(['Age'])['Value Equalized'].mean()\n",
    "wage_and_value = pd.concat([wage_by_age, value_by_age], axis=1)\n",
    "\n",
    "axis = wage_and_value.plot()\n",
    "axis.set_ylabel('Wage / Value')\n",
    "axis.set_title('Average Age')\n",
    "plt.show()"
   ]
  },
  {
   "cell_type": "markdown",
   "metadata": {},
   "source": [
    "Now we can see that both a player's wage and value are similarly affected by a player's age. Unlike a player's overall rating, a player's age has a substantial impact on their pay. A player's pay seems to rapidly increase until it spikes at the age of 29 and then exponentially decreases onward even though we noticed earlier that their overall skills don't decrease much until the age of 35. The spikes around ages 40 and 45 are the outliers we saw earlier with only a couple examples in each sample size."
   ]
  },
  {
   "cell_type": "markdown",
   "metadata": {},
   "source": [
    "<hr>\n",
    "# Correlate between age and nationality\n",
    "Now let's look at the age and potential of each country."
   ]
  },
  {
   "cell_type": "code",
   "execution_count": 15,
   "metadata": {},
   "outputs": [
    {
     "data": {
      "text/html": [
       "<div>\n",
       "<style scoped>\n",
       "    .dataframe tbody tr th:only-of-type {\n",
       "        vertical-align: middle;\n",
       "    }\n",
       "\n",
       "    .dataframe tbody tr th {\n",
       "        vertical-align: top;\n",
       "    }\n",
       "\n",
       "    .dataframe thead th {\n",
       "        text-align: right;\n",
       "    }\n",
       "</style>\n",
       "<table border=\"1\" class=\"dataframe\">\n",
       "  <thead>\n",
       "    <tr style=\"text-align: right;\">\n",
       "      <th></th>\n",
       "      <th>Age</th>\n",
       "      <th>Players</th>\n",
       "      <th>Average Potential</th>\n",
       "      <th>Median Potential</th>\n",
       "    </tr>\n",
       "    <tr>\n",
       "      <th>Nationality</th>\n",
       "      <th></th>\n",
       "      <th></th>\n",
       "      <th></th>\n",
       "      <th></th>\n",
       "    </tr>\n",
       "  </thead>\n",
       "  <tbody>\n",
       "    <tr>\n",
       "      <th>Afghanistan</th>\n",
       "      <td>22.000000</td>\n",
       "      <td>3</td>\n",
       "      <td>10.000000</td>\n",
       "      <td>14.0</td>\n",
       "    </tr>\n",
       "    <tr>\n",
       "      <th>Albania</th>\n",
       "      <td>24.685714</td>\n",
       "      <td>35</td>\n",
       "      <td>4.514286</td>\n",
       "      <td>3.0</td>\n",
       "    </tr>\n",
       "    <tr>\n",
       "      <th>Algeria</th>\n",
       "      <td>26.543860</td>\n",
       "      <td>57</td>\n",
       "      <td>2.789474</td>\n",
       "      <td>1.0</td>\n",
       "    </tr>\n",
       "    <tr>\n",
       "      <th>Angola</th>\n",
       "      <td>25.600000</td>\n",
       "      <td>15</td>\n",
       "      <td>4.066667</td>\n",
       "      <td>4.0</td>\n",
       "    </tr>\n",
       "    <tr>\n",
       "      <th>Antigua &amp; Barbuda</th>\n",
       "      <td>22.400000</td>\n",
       "      <td>5</td>\n",
       "      <td>8.200000</td>\n",
       "      <td>8.0</td>\n",
       "    </tr>\n",
       "    <tr>\n",
       "      <th>Argentina</th>\n",
       "      <td>25.932642</td>\n",
       "      <td>965</td>\n",
       "      <td>4.693264</td>\n",
       "      <td>3.0</td>\n",
       "    </tr>\n",
       "    <tr>\n",
       "      <th>Armenia</th>\n",
       "      <td>26.071429</td>\n",
       "      <td>14</td>\n",
       "      <td>3.714286</td>\n",
       "      <td>0.0</td>\n",
       "    </tr>\n",
       "    <tr>\n",
       "      <th>Australia</th>\n",
       "      <td>24.312775</td>\n",
       "      <td>227</td>\n",
       "      <td>5.744493</td>\n",
       "      <td>5.0</td>\n",
       "    </tr>\n",
       "    <tr>\n",
       "      <th>Austria</th>\n",
       "      <td>24.515038</td>\n",
       "      <td>266</td>\n",
       "      <td>5.293233</td>\n",
       "      <td>4.0</td>\n",
       "    </tr>\n",
       "    <tr>\n",
       "      <th>Azerbaijan</th>\n",
       "      <td>25.000000</td>\n",
       "      <td>7</td>\n",
       "      <td>4.714286</td>\n",
       "      <td>2.0</td>\n",
       "    </tr>\n",
       "  </tbody>\n",
       "</table>\n",
       "</div>"
      ],
      "text/plain": [
       "                         Age  Players  Average Potential  Median Potential\n",
       "Nationality                                                               \n",
       "Afghanistan        22.000000        3          10.000000              14.0\n",
       "Albania            24.685714       35           4.514286               3.0\n",
       "Algeria            26.543860       57           2.789474               1.0\n",
       "Angola             25.600000       15           4.066667               4.0\n",
       "Antigua & Barbuda  22.400000        5           8.200000               8.0\n",
       "Argentina          25.932642      965           4.693264               3.0\n",
       "Armenia            26.071429       14           3.714286               0.0\n",
       "Australia          24.312775      227           5.744493               5.0\n",
       "Austria            24.515038      266           5.293233               4.0\n",
       "Azerbaijan         25.000000        7           4.714286               2.0"
      ]
     },
     "execution_count": 15,
     "metadata": {},
     "output_type": "execute_result"
    }
   ],
   "source": [
    "df_nationality = df.copy()\n",
    "column_total_players = df_nationality.groupby(['Nationality']).agg({'Nationality': 'count'})\n",
    "column_avg_potential = df_nationality.groupby(['Nationality']).agg({'Potential': 'mean'})\n",
    "column_potential_median = df_nationality.groupby(['Nationality']).agg({'Potential': 'median'})\n",
    "df_nationality = df_nationality.groupby(['Nationality']).agg({'Age': 'mean'})\n",
    "df_nationality['Players'] = column_total_players\n",
    "df_nationality['Average Potential'] = column_avg_potential\n",
    "df_nationality['Median Potential'] = column_potential_median\n",
    "df_nationality.head(10)"
   ]
  },
  {
   "cell_type": "markdown",
   "metadata": {},
   "source": [
    "**As we can easily notice, there are many countries that have a small amount of players which would skew our measurements so we are only going to be looking at countries with more than 20 players.**"
   ]
  },
  {
   "cell_type": "code",
   "execution_count": 16,
   "metadata": {},
   "outputs": [],
   "source": [
    "df_nationality = df_nationality[df_nationality.Players > 20]"
   ]
  },
  {
   "cell_type": "markdown",
   "metadata": {},
   "source": [
    "### Countries with the youngest players\n",
    "Since we earlier discovered that age directly affects potential, it is important to first take a look at the countries with the youngest players."
   ]
  },
  {
   "cell_type": "code",
   "execution_count": 17,
   "metadata": {},
   "outputs": [
    {
     "data": {
      "image/png": "[encoded data removed]",
      "text/plain": [
       "<matplotlib.figure.Figure at 0x10cb25da0>"
      ]
     },
     "metadata": {},
     "output_type": "display_data"
    }
   ],
   "source": [
    "nations_with_youngest_players = df_nationality['Age'].sort_values().head(10)\n",
    "nations_with_youngest_players.plot(kind=\"barh\")\n",
    "plt.ylabel('Country')\n",
    "plt.xlabel('Age')\n",
    "plt.title('Countries with the youngest players')\n",
    "plt.show()"
   ]
  },
  {
   "cell_type": "markdown",
   "metadata": {},
   "source": [
    "### Countries with the most players\n",
    "I predicted earlier that countries with the most amount of players would have a higher potential so let's take a look at the top 10 countries with the most amount of players."
   ]
  },
  {
   "cell_type": "code",
   "execution_count": 18,
   "metadata": {},
   "outputs": [
    {
     "data": {
      "image/png": "[encoded data removed]",
      "text/plain": [
       "<matplotlib.figure.Figure at 0x10cb25b70>"
      ]
     },
     "metadata": {},
     "output_type": "display_data"
    }
   ],
   "source": [
    "nations_with_most_players = df_nationality['Players'].sort_values(ascending=False).head(10).sort_values(ascending=True)\n",
    "nations_with_most_players.plot(kind=\"barh\")\n",
    "plt.xlabel('Number of players')\n",
    "plt.title('Countries with the most players')\n",
    "plt.show()"
   ]
  },
  {
   "cell_type": "markdown",
   "metadata": {},
   "source": [
    "### Countries with most potential\n",
    "Now let's finally see which countries have the most potential."
   ]
  },
  {
   "cell_type": "code",
   "execution_count": 19,
   "metadata": {},
   "outputs": [
    {
     "data": {
      "image/png": "[encoded data removed]",
      "text/plain": [
       "<matplotlib.figure.Figure at 0x10ca5e358>"
      ]
     },
     "metadata": {},
     "output_type": "display_data"
    }
   ],
   "source": [
    "nations_with_most_potential = df_nationality['Average Potential'].sort_values(ascending=False).head(10).sort_values(ascending=True)\n",
    "nations_with_most_potential.plot(kind=\"barh\")\n",
    "plt.xlabel('Number of potential points')\n",
    "plt.title('Countries with the most potential')\n",
    "plt.show()"
   ]
  },
  {
   "cell_type": "code",
   "execution_count": 20,
   "metadata": {},
   "outputs": [
    {
     "data": {
      "text/html": [
       "<div>\n",
       "<style scoped>\n",
       "    .dataframe tbody tr th:only-of-type {\n",
       "        vertical-align: middle;\n",
       "    }\n",
       "\n",
       "    .dataframe tbody tr th {\n",
       "        vertical-align: top;\n",
       "    }\n",
       "\n",
       "    .dataframe thead th {\n",
       "        text-align: right;\n",
       "    }\n",
       "</style>\n",
       "<table border=\"1\" class=\"dataframe\">\n",
       "  <thead>\n",
       "    <tr style=\"text-align: right;\">\n",
       "      <th></th>\n",
       "      <th>Age</th>\n",
       "      <th>Players</th>\n",
       "      <th>Average Potential</th>\n",
       "      <th>Median Potential</th>\n",
       "    </tr>\n",
       "    <tr>\n",
       "      <th>Nationality</th>\n",
       "      <th></th>\n",
       "      <th></th>\n",
       "      <th></th>\n",
       "      <th></th>\n",
       "    </tr>\n",
       "  </thead>\n",
       "  <tbody>\n",
       "    <tr>\n",
       "      <th>Switzerland</th>\n",
       "      <td>24.055794</td>\n",
       "      <td>233</td>\n",
       "      <td>7.188841</td>\n",
       "      <td>6.0</td>\n",
       "    </tr>\n",
       "    <tr>\n",
       "      <th>England</th>\n",
       "      <td>23.919632</td>\n",
       "      <td>1630</td>\n",
       "      <td>7.097546</td>\n",
       "      <td>6.0</td>\n",
       "    </tr>\n",
       "    <tr>\n",
       "      <th>Scotland</th>\n",
       "      <td>24.453333</td>\n",
       "      <td>300</td>\n",
       "      <td>6.510000</td>\n",
       "      <td>6.0</td>\n",
       "    </tr>\n",
       "    <tr>\n",
       "      <th>Denmark</th>\n",
       "      <td>24.364162</td>\n",
       "      <td>346</td>\n",
       "      <td>6.378613</td>\n",
       "      <td>5.0</td>\n",
       "    </tr>\n",
       "    <tr>\n",
       "      <th>Nigeria</th>\n",
       "      <td>23.420635</td>\n",
       "      <td>126</td>\n",
       "      <td>6.373016</td>\n",
       "      <td>6.0</td>\n",
       "    </tr>\n",
       "    <tr>\n",
       "      <th>Ghana</th>\n",
       "      <td>23.581197</td>\n",
       "      <td>117</td>\n",
       "      <td>6.324786</td>\n",
       "      <td>7.0</td>\n",
       "    </tr>\n",
       "    <tr>\n",
       "      <th>Norway</th>\n",
       "      <td>24.027027</td>\n",
       "      <td>333</td>\n",
       "      <td>6.153153</td>\n",
       "      <td>5.0</td>\n",
       "    </tr>\n",
       "    <tr>\n",
       "      <th>Belgium</th>\n",
       "      <td>23.893382</td>\n",
       "      <td>272</td>\n",
       "      <td>6.033088</td>\n",
       "      <td>5.0</td>\n",
       "    </tr>\n",
       "    <tr>\n",
       "      <th>Kosovo</th>\n",
       "      <td>23.937500</td>\n",
       "      <td>32</td>\n",
       "      <td>5.906250</td>\n",
       "      <td>5.0</td>\n",
       "    </tr>\n",
       "    <tr>\n",
       "      <th>Wales</th>\n",
       "      <td>24.926829</td>\n",
       "      <td>123</td>\n",
       "      <td>5.813008</td>\n",
       "      <td>5.0</td>\n",
       "    </tr>\n",
       "  </tbody>\n",
       "</table>\n",
       "</div>"
      ],
      "text/plain": [
       "                   Age  Players  Average Potential  Median Potential\n",
       "Nationality                                                         \n",
       "Switzerland  24.055794      233           7.188841               6.0\n",
       "England      23.919632     1630           7.097546               6.0\n",
       "Scotland     24.453333      300           6.510000               6.0\n",
       "Denmark      24.364162      346           6.378613               5.0\n",
       "Nigeria      23.420635      126           6.373016               6.0\n",
       "Ghana        23.581197      117           6.324786               7.0\n",
       "Norway       24.027027      333           6.153153               5.0\n",
       "Belgium      23.893382      272           6.033088               5.0\n",
       "Kosovo       23.937500       32           5.906250               5.0\n",
       "Wales        24.926829      123           5.813008               5.0"
      ]
     },
     "execution_count": 20,
     "metadata": {},
     "output_type": "execute_result"
    }
   ],
   "source": [
    "df_nationality.sort_values('Average Potential', ascending=False).head(10)"
   ]
  },
  {
   "cell_type": "markdown",
   "metadata": {},
   "source": [
    "As it turns out, there seems to be no connection between the countries with the most amount of players and the countries with the most amount of potential. On the other hand, 7/10 countries that had the youngest players also had the most potential. This means that although age has a huge significance when it comes to potential, there are some unrepresented factors that impact how EA assigns rating points.\n",
    "\n",
    "It appears that Netherlands and England are the only two countries to appear on all three list so it can concluded that these two countries have a high likelihood to produce all-star soccer players in the years to come."
   ]
  },
  {
   "cell_type": "markdown",
   "metadata": {},
   "source": [
    "<hr>\n",
    "# Conclusion\n",
    "As a soccer player your age has a significant impact on your career. As a younger player your skills haven't fully developed so you are offered more money as you get older and your skills increase. The 'Golden Years' seem to most often occur between the ages of 25 and 29. At the age of 29, on average, you will make the most amount of money in your career and although your skills decrease steadily your pay take a huge cut after each passing year. By the age of 35 almost all soccer players retire.\n",
    "\n",
    "The country you are from has little to no impact on your career and I guess it is true what they say; Soccer is a world sport. Players are drafted from all over the world to play in different countries and I am unable to conclude that the country you grew up playing soccer in has any direct affect on your career."
   ]
  },
  {
   "cell_type": "markdown",
   "metadata": {},
   "source": [
    "<hr>\n",
    "# Future Exploration\n",
    "I would like to revisit this analysis and explore whether or not the country you are from has an affect on your pay. I predict that players from the countries with the most prominent soccer leagues will be offered a larger salary. In order to visually present this data properly I would revisit this analysis after exploring how to make a world map with dynamic data. I would also refactor the age and nationality bar graphs to be world maps as well."
   ]
  },
  {
   "cell_type": "code",
   "execution_count": null,
   "metadata": {},
   "outputs": [],
   "source": []
  }
 ],
 "metadata": {
  "kernelspec": {
   "display_name": "Python 3",
   "language": "python",
   "name": "python3"
  },
  "language_info": {
   "codemirror_mode": {
    "name": "ipython",
    "version": 3
   },
   "file_extension": ".py",
   "mimetype": "text/x-python",
   "name": "python",
   "nbconvert_exporter": "python",
   "pygments_lexer": "ipython3",
   "version": "3.6.3"
  }
 },
 "nbformat": 4,
 "nbformat_minor": 2
}
